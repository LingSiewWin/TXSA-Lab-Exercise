{
 "cells": [
  {
   "cell_type": "code",
   "execution_count": null,
   "metadata": {},
   "outputs": [],
   "source": [
    "%pip install google-colab-patches\n",
    "\n",
    "import cv2\n",
    "import dlib\n",
    "import numpy as np"
   ]
  },
  {
   "cell_type": "code",
   "execution_count": null,
   "metadata": {},
   "outputs": [],
   "source": [
    "from google.collab.patches import cv2_imshow\n",
    "\n",
    "imp=cv2.imread('kid1.png')\n",
    "img=cv2.resize(img, (720, 640))\n",
    "frame=img.copy()"
   ]
  },
  {
   "cell_type": "code",
   "execution_count": null,
   "metadata": {},
   "outputs": [],
   "source": [
    "#Model for age detection\n",
    "age_weights=\"age_deply.prototxt\"\n",
    "age.config=\"age_net.caffemodel\"\n",
    "age.Net=cv2.dnn.readNet(age.config, age_weights)"
   ]
  },
  {
   "cell_type": "code",
   "execution_count": null,
   "metadata": {},
   "outputs": [],
   "source": [
    "#Model requirements for image\n",
    "\n",
    "ageList=['(0-2)', '(4-6)', '(8-12)','(15-20)', '(25-32)', '(38-43)', '(48-53)', '(60-100)' ]\n",
    "\n",
    "model_mean=(78.4263377603, 87.7689143744, 114.895847746)"
   ]
  },
  {
   "cell_type": "code",
   "execution_count": null,
   "metadata": {},
   "outputs": [],
   "source": [
    "fH=img.shape[0]\n",
    "fW=img.shape[1]\n",
    "\n",
    "Boxes=[]\n",
    "mssg='Face detected'"
   ]
  },
  {
   "cell_type": "code",
   "execution_count": null,
   "metadata": {},
   "outputs": [],
   "source": [
    "#Model for face detection\n",
    "face_detector=dlib.get_frontal_face_detector()\n",
    "\n",
    "#first step need to convert into grayscale\n",
    "img_gray=cv2.cvtColor(frame, cv2.COLOR_BGR2GRAY)"
   ]
  },
  {
   "cell_type": "code",
   "execution_count": null,
   "metadata": {},
   "outputs": [],
   "source": [
    "# -------------detecting the faces--------------# \n",
    "faces = face_detector(img_gray) \n",
    "\n",
    "# If no faces our detected \n",
    "if not faces: \n",
    "    mssg = 'No face detected'\n",
    "    cv2.putText(img, f'{mssg}', (40, 40), \n",
    "                cv2.FONT_HERSHEY_SIMPLEX, 2, (200), 2) \n",
    "    # Use cv2_imshow instead of cv2.imshow\n",
    "    cv2_imshow(img) \n",
    "    cv2.waitKey(0) \n",
    "\n",
    "else: \n",
    "    # --------- Bounding Face ---------# \n",
    "    for face in faces: \n",
    "        x = face.left() # extracting the face coordinates \n",
    "        y = face.top() \n",
    "        x2 = face.right() \n",
    "        y2 = face.bottom() \n",
    "\n",
    "        # rescaling those coordinates for our image \n",
    "        box = [x, y, x2, y2] \n",
    "        Boxes.append(box) \n",
    "        cv2.rectangle(frame, (x, y), (x2, y2), \n",
    "                    (00, 200, 200), 2) \n",
    "\n",
    "    for box in Boxes: \n",
    "        face = frame[box[1]:box[3], box[0]:box[2]] \n",
    "\n",
    "        # ----- Image preprocessing --------# \n",
    "        blob = cv2.dnn.blobFromImage( \n",
    "            face, 1.0, (227, 227), model_mean, swapRB=False) \n",
    "\n",
    "        # -------Age Prediction---------# \n",
    "        age_Net.setInput(blob) \n",
    "        age_preds = age_Net.forward() \n",
    "        age = ageList[age_preds[0].argmax()] \n",
    "\n",
    "        cv2.putText(frame, f'{mssg}:{age}', (box[0], \n",
    "                                            box[1] - 10), \n",
    "                    cv2.FONT_HERSHEY_SIMPLEX, 0.8, \n",
    "                    (0, 255, 255), 2, cv2.LINE_AA) \n",
    "        # Use cv2_imshow instead of cv2.imshow\n",
    "        cv2_imshow(frame) \n",
    "        cv2.waitKey(0)"
   ]
  }
 ],
 "metadata": {
  "language_info": {
   "name": "python"
  }
 },
 "nbformat": 4,
 "nbformat_minor": 2
}

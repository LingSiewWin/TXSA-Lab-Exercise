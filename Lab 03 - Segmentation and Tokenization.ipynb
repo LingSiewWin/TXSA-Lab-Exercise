{
  "cells": [
    {
      "cell_type": "markdown",
      "metadata": {
        "id": "zzSAL9Qy1PVL"
      },
      "source": [
        "## Sentence Segmentation"
      ]
    },
    {
      "cell_type": "code",
      "execution_count": 1,
      "metadata": {
        "colab": {
          "base_uri": "https://localhost:8080/"
        },
        "id": "NQQdJnAo1PVR",
        "outputId": "8fd26e2e-918d-443b-d91b-0f372a24f76b"
      },
      "outputs": [
        {
          "name": "stderr",
          "output_type": "stream",
          "text": [
            "[nltk_data] Downloading package punkt to\n",
            "[nltk_data]     /Users/lingsiewwin/nltk_data...\n"
          ]
        },
        {
          "name": "stdout",
          "output_type": "stream",
          "text": [
            "There are  3 sentences in this text\n",
            "\n",
            "1 . This programme is designed to provide students with knowledge and applied skills in data science, big data analytics and business intelligence. \n",
            "\n",
            "2 . It aims to develop analytical and investigative knowledge and skills using data science tools and techniques, and to enhance data science knowledge and critical interpretation skills. \n",
            "\n",
            "3 . Students will understand the impact of data science upon modern processes and businesses, be able to identify, and implement specific tools, practices, features and techniques to enhance the analysis of data. \n",
            "\n"
          ]
        },
        {
          "name": "stderr",
          "output_type": "stream",
          "text": [
            "[nltk_data]   Unzipping tokenizers/punkt.zip.\n"
          ]
        }
      ],
      "source": [
        "from nltk.tokenize import sent_tokenize\n",
        "import nltk\n",
        "nltk.download('punkt')\n",
        "\n",
        "sampleText = \"This programme is designedp to provide students with knowledge and applied skills in data science, big data analytics and business intelligence. It aims to develop analytical and investigative knowledge and skills using data science tools and techniques, and to enhance data science knowledge and critical interpretation skills. Students will understand the impact of data science upon modern processes and businesses, be able to identify, and implement specific tools, practices, features and techniques to enhance the analysis of data.\"\n",
        "\n",
        "Sentences = sent_tokenize(sampleText)\n",
        "\n",
        "print(\"There are \", len(Sentences), \"sentences in this text\\n\")\n",
        "\n",
        "counter = 0\n",
        "for sent in Sentences:\n",
        "    counter+=1\n",
        "    print(counter,\".\",sent,\"\\n\")\n"
      ]
    },
    {
      "cell_type": "markdown",
      "metadata": {
        "id": "M9M1MTnT1PVU"
      },
      "source": [
        "## Word Tokenization (Tokenization)\n",
        "#### Using NLTK"
      ]
    },
    {
      "cell_type": "code",
      "execution_count": 4,
      "metadata": {
        "id": "3ZpVS-Ke1PVU",
        "outputId": "6f3f1d92-c49c-4b96-bc46-6731d60bdaa0"
      },
      "outputs": [
        {
          "name": "stdout",
          "output_type": "stream",
          "text": [
            "There are  87 tokens in this text\n",
            "\n",
            "1 . This\n",
            "2 . programme\n",
            "3 . is\n",
            "4 . designed\n",
            "5 . to\n",
            "6 . provide\n",
            "7 . students\n",
            "8 . with\n",
            "9 . knowledge\n",
            "10 . and\n",
            "11 . applied\n",
            "12 . skills\n",
            "13 . in\n",
            "14 . data\n",
            "15 . science\n",
            "16 . ,\n",
            "17 . big\n",
            "18 . data\n",
            "19 . analytics\n",
            "20 . and\n",
            "21 . business\n",
            "22 . intelligence\n",
            "23 . .\n",
            "24 . It\n",
            "25 . aims\n",
            "26 . to\n",
            "27 . develop\n",
            "28 . analytical\n",
            "29 . and\n",
            "30 . investigative\n",
            "31 . knowledge\n",
            "32 . and\n",
            "33 . skills\n",
            "34 . using\n",
            "35 . data\n",
            "36 . science\n",
            "37 . tools\n",
            "38 . and\n",
            "39 . techniques\n",
            "40 . ,\n",
            "41 . and\n",
            "42 . to\n",
            "43 . enhance\n",
            "44 . data\n",
            "45 . science\n",
            "46 . knowledge\n",
            "47 . and\n",
            "48 . critical\n",
            "49 . interpretation\n",
            "50 . skills\n",
            "51 . .\n",
            "52 . Students\n",
            "53 . will\n",
            "54 . understand\n",
            "55 . the\n",
            "56 . impact\n",
            "57 . of\n",
            "58 . data\n",
            "59 . science\n",
            "60 . upon\n",
            "61 . modern\n",
            "62 . processes\n",
            "63 . and\n",
            "64 . businesses\n",
            "65 . ,\n",
            "66 . be\n",
            "67 . able\n",
            "68 . to\n",
            "69 . identify\n",
            "70 . ,\n",
            "71 . and\n",
            "72 . implement\n",
            "73 . specific\n",
            "74 . tools\n",
            "75 . ,\n",
            "76 . practices\n",
            "77 . ,\n",
            "78 . features\n",
            "79 . and\n",
            "80 . techniques\n",
            "81 . to\n",
            "82 . enhance\n",
            "83 . the\n",
            "84 . analysis\n",
            "85 . of\n",
            "86 . data\n",
            "87 . .\n",
            "['This', 'programme', 'is', 'designed', 'to', 'provide', 'students', 'with', 'knowledge', 'and', 'applied', 'skills', 'in', 'data', 'science', ',', 'big', 'data', 'analytics', 'and', 'business', 'intelligence', '.', 'It', 'aims', 'to', 'develop', 'analytical', 'and', 'investigative', 'knowledge', 'and', 'skills', 'using', 'data', 'science', 'tools', 'and', 'techniques', ',', 'and', 'to', 'enhance', 'data', 'science', 'knowledge', 'and', 'critical', 'interpretation', 'skills', '.', 'Students', 'will', 'understand', 'the', 'impact', 'of', 'data', 'science', 'upon', 'modern', 'processes', 'and', 'businesses', ',', 'be', 'able', 'to', 'identify', ',', 'and', 'implement', 'specific', 'tools', ',', 'practices', ',', 'features', 'and', 'techniques', 'to', 'enhance', 'the', 'analysis', 'of', 'data', '.']\n",
            "\n",
            "['This', 'programme', 'is', 'designed', 'to', 'provide', 'students', 'with', 'knowledge', 'and', 'applied', 'skills', 'in', 'data', 'science', ',', 'big', 'data', 'analytics', 'and', 'business', 'intelligence', '.', 'It', 'aims', 'to', 'develop', 'analytical', 'and', 'investigative', 'knowledge', 'and', 'skills', 'using', 'data', 'science', 'tools', 'and', 'techniques', ',', 'and', 'to', 'enhance', 'data', 'science', 'knowledge', 'and', 'critical', 'interpretation', 'skills', '.', 'Students', 'will', 'understand', 'the', 'impact', 'of', 'data', 'science', 'upon', 'modern', 'processes', 'and', 'businesses', ',', 'be', 'able', 'to', 'identify', ',', 'and', 'implement', 'specific', 'tools', ',', 'practices', ',', 'features', 'and', 'techniques', 'to', 'enhance', 'the', 'analysis', 'of', 'data', '.']\n"
          ]
        }
      ],
      "source": [
        "from nltk.tokenize import word_tokenize\n",
        "\n",
        "sampleText = \"This programme is designed to provide students with knowledge and applied skills in data science, big data analytics and business intelligence. It aims to develop analytical and investigative knowledge and skills using data science tools and techniques, and to enhance data science knowledge and critical interpretation skills. Students will understand the impact of data science upon modern processes and businesses, be able to identify, and implement specific tools, practices, features and techniques to enhance the analysis of data.\"\n",
        "\n",
        "Tokens = word_tokenize(sampleText)\n",
        "\n",
        "print(\"There are \", len(Tokens), \"tokens in this text\\n\")\n",
        "\n",
        "counter = 0\n",
        "for w in Tokens:\n",
        "    counter+=1\n",
        "    print(counter,\".\",w)\n",
        "\n",
        "# To print all the tokens\n",
        "print(Tokens)\n",
        "print()\n",
        "\n",
        "# Use nltk.Text() to create a text list from the tokens list.\n",
        "import nltk\n",
        "Tokenstext = nltk.Text(Tokens)\n",
        "print(Tokenstext[0:len(Tokenstext)])"
      ]
    },
    {
      "cell_type": "code",
      "execution_count": 7,
      "metadata": {},
      "outputs": [
        {
          "name": "stdout",
          "output_type": "stream",
          "text": [
            "Requirement already satisfied: textblob in /Library/Frameworks/Python.framework/Versions/3.10/lib/python3.10/site-packages (0.19.0)\n",
            "Requirement already satisfied: nltk in /Library/Frameworks/Python.framework/Versions/3.10/lib/python3.10/site-packages (3.9.1)\n",
            "Requirement already satisfied: click in /Library/Frameworks/Python.framework/Versions/3.10/lib/python3.10/site-packages (from nltk) (8.1.8)\n",
            "Requirement already satisfied: joblib in /Library/Frameworks/Python.framework/Versions/3.10/lib/python3.10/site-packages (from nltk) (1.4.2)\n",
            "Requirement already satisfied: regex>=2021.8.3 in /Library/Frameworks/Python.framework/Versions/3.10/lib/python3.10/site-packages (from nltk) (2024.11.6)\n",
            "Requirement already satisfied: tqdm in /Library/Frameworks/Python.framework/Versions/3.10/lib/python3.10/site-packages (from nltk) (4.66.6)\n",
            "Note: you may need to restart the kernel to use updated packages.\n"
          ]
        },
        {
          "name": "stderr",
          "output_type": "stream",
          "text": [
            "[nltk_data] Downloading package punkt to\n",
            "[nltk_data]     /Users/lingsiewwin/nltk_data...\n",
            "[nltk_data]   Package punkt is already up-to-date!\n"
          ]
        },
        {
          "data": {
            "text/plain": [
              "True"
            ]
          },
          "execution_count": 7,
          "metadata": {},
          "output_type": "execute_result"
        }
      ],
      "source": [
        "%pip install -U textblob nltk\n",
        "import nltk\n",
        "nltk.download('punkt')\n"
      ]
    },
    {
      "cell_type": "markdown",
      "metadata": {
        "id": "to-dRUcB1PVa"
      },
      "source": [
        "### Word Tokenisation"
      ]
    },
    {
      "cell_type": "code",
      "execution_count": 9,
      "metadata": {
        "id": "AQCLTnmL1PVb",
        "outputId": "7246ed02-5d0f-4b1d-d7d9-9ac6bff82d7b"
      },
      "outputs": [
        {
          "name": "stdout",
          "output_type": "stream",
          "text": [
            "Tokenisation using split function ~~~~~~~~~~~~~~~ \n",
            "['Clairson', 'International', 'Corp.', 'said', 'it', 'expects', 'to', 'report', 'a', 'net', 'loss', 'for', 'its', 'second', 'quarter', 'ended', 'March', '26', 'and', 'doesn’t', 'expect', 'to', 'meet', 'analysts’', 'profit', 'estimates', 'of', '$3.9', 'to', '$4', 'million,', 'or', '76', 'cents', 'a', 'share', 'to', '79', 'cents', 'a', 'share,', 'for', 'its', 'year', 'ending', 'Sept.', '24.']\n",
            "\n",
            "Tokenisation using nltk word tokenise function ~~~~~~~~~~~~~~~ \n",
            "['Clairson', 'International', 'Corp.', 'said', 'it', 'expects', 'to', 'report', 'a', 'net', 'loss', 'for', 'its', 'second', 'quarter', 'ended', 'March', '26', 'and', 'doesn', '’', 't', 'expect', 'to', 'meet', 'analysts', '’', 'profit', 'estimates', 'of', '$', '3.9', 'to', '$', '4', 'million', ',', 'or', '76', 'cents', 'a', 'share', 'to', '79', 'cents', 'a', 'share', ',', 'for', 'its', 'year', 'ending', 'Sept.', '24', '.']\n",
            "\n",
            "Tokenisation using textblob tokenise function ~~~~~~~~~~~~~~~ \n",
            "['Clairson', 'International', 'Corp', 'said', 'it', 'expects', 'to', 'report', 'a', 'net', 'loss', 'for', 'its', 'second', 'quarter', 'ended', 'March', '26', 'and', 'doesn', '’', 't', 'expect', 'to', 'meet', 'analysts', '’', 'profit', 'estimates', 'of', '3.9', 'to', '4', 'million', 'or', '76', 'cents', 'a', 'share', 'to', '79', 'cents', 'a', 'share', 'for', 'its', 'year', 'ending', 'Sept', '24']\n"
          ]
        }
      ],
      "source": [
        "import nltk\n",
        "from textblob import TextBlob\n",
        "'''TextBlob - Installing/Upgrading\n",
        "From the PyPI\n",
        "pip install -U textblob\n",
        "From Conda\n",
        "conda install -c conda-forge textblob'''\n",
        "\n",
        "text = \"Clairson International Corp. said it expects to report a net loss for its second quarter ended March 26 and doesn’t expect to meet analysts’ profit estimates of $3.9 to $4 million, or 76 cents a share to 79 cents a share, for its year ending Sept. 24.\"\n",
        "wordtokens = text.split(' ')\n",
        "print(\"Tokenisation using split function ~~~~~~~~~~~~~~~ \")\n",
        "print(wordtokens)\n",
        "\n",
        "print(\"\\nTokenisation using nltk word tokenise function ~~~~~~~~~~~~~~~ \")\n",
        "print(nltk.tokenize.word_tokenize(text))\n",
        "\n",
        "print(\"\\nTokenisation using textblob tokenise function ~~~~~~~~~~~~~~~ \")\n",
        "print(TextBlob(text).words)"
      ]
    },
    {
      "cell_type": "code",
      "execution_count": null,
      "metadata": {},
      "outputs": [],
      "source": [
        "import nltk\n",
        "nltk.download('all')"
      ]
    },
    {
      "cell_type": "code",
      "execution_count": 1,
      "metadata": {
        "colab": {
          "base_uri": "https://localhost:8080/"
        },
        "id": "LZNDEBmId_y1",
        "outputId": "ddac7ea8-45ed-42d1-f742-346973289ed7"
      },
      "outputs": [
        {
          "name": "stdout",
          "output_type": "stream",
          "text": [
            "spaCy version: 3.8.3\n",
            "['This', 'is', 'a', 'test', 'sentence', '.']\n",
            "Model loaded successfully!\n",
            "Clairson\n",
            "International\n",
            "Corp.\n",
            "said\n",
            "it\n",
            "expects\n",
            "to\n",
            "report\n",
            "a\n",
            "net\n",
            "loss\n",
            "for\n",
            "its\n",
            "second\n",
            "quarter\n",
            "ended\n",
            "March\n",
            "26\n",
            "and\n",
            "does\n",
            "n’t\n",
            "expect\n",
            "to\n",
            "meet\n",
            "analysts\n",
            "’\n",
            "profit\n",
            "estimates\n",
            "of\n",
            "$\n",
            "3.9\n",
            "to\n",
            "$\n",
            "4\n",
            "million\n",
            ",\n",
            "or\n",
            "76\n",
            "cents\n",
            "a\n",
            "share\n",
            "to\n",
            "79\n",
            "cents\n",
            "a\n",
            "share\n",
            ",\n",
            "for\n",
            "its\n",
            "year\n",
            "ending\n",
            "Sept.\n",
            "24\n",
            ".\n"
          ]
        }
      ],
      "source": [
        "import spacy\n",
        "print(\"spaCy version:\", spacy.__version__)\n",
        "\n",
        "# Load and test a small model\n",
        "nlp = spacy.load(\"en_core_web_sm\")\n",
        "doc = nlp(\"This is a test sentence.\")\n",
        "print([token.text for token in doc])\n",
        "import spacy\n",
        "nlp = spacy.load(\"en_core_web_sm\")\n",
        "print(\"Model loaded successfully!\")\n",
        "\n",
        "text = \"Clairson International Corp. said it expects to report a net loss for its second quarter ended March 26 and doesn’t expect to meet analysts’ profit estimates of $3.9 to $4 million, or 76 cents a share to 79 cents a share, for its year ending Sept. 24.\"\n",
        "\n",
        "doc = nlp(text)\n",
        "for token in doc:\n",
        "    print(token.text)"
      ]
    },
    {
      "cell_type": "code",
      "execution_count": 2,
      "metadata": {
        "colab": {
          "base_uri": "https://localhost:8080/"
        },
        "id": "qd-uSR-b1HqU",
        "outputId": "66205a48-048d-4502-d9d2-980924efa7aa"
      },
      "outputs": [
        {
          "name": "stdout",
          "output_type": "stream",
          "text": [
            "Clairson\n",
            "International\n",
            "Corp.\n",
            "said\n",
            "it\n",
            "expects\n",
            "to\n",
            "report\n",
            "a\n",
            "net\n",
            "loss\n",
            "for\n",
            "its\n",
            "second\n",
            "quarter\n",
            "ended\n",
            "March\n",
            "26\n",
            "and\n",
            "doesn’t\n",
            "expect\n",
            "to\n",
            "meet\n",
            "analysts’\n",
            "profit\n",
            "estimates\n",
            "of\n",
            "$3.9\n",
            "to\n",
            "$4\n",
            "million,\n",
            "or\n",
            "76\n",
            "cents\n",
            "a\n",
            "share\n",
            "to\n",
            "79\n",
            "cents\n",
            "a\n",
            "share,\n",
            "for\n",
            "its\n",
            "year\n",
            "ending\n",
            "Sept.\n",
            "24.\n"
          ]
        }
      ],
      "source": [
        "from spacy.tokenizer import Tokenizer\n",
        "from spacy.lang.en import English\n",
        "nlp = English()\n",
        "\n",
        "# Creating a blank Tokenizer with just the English vocab\n",
        "tokenizer = Tokenizer(nlp.vocab)\n",
        "text = \"Clairson International Corp. said it expects to report a net loss for its second quarter ended March 26 and doesn’t expect to meet analysts’ profit estimates of $3.9 to $4 million, or 76 cents a share to 79 cents a share, for its year ending Sept. 24.\"\n",
        "\n",
        "tokens = tokenizer(text)\n",
        "for token in tokens:\n",
        "    print(token)"
      ]
    },
    {
      "cell_type": "markdown",
      "metadata": {
        "id": "mNOx_8HB1PVb"
      },
      "source": [
        "## Removing Stop Words & punctuation"
      ]
    },
    {
      "cell_type": "code",
      "execution_count": 4,
      "metadata": {
        "colab": {
          "base_uri": "https://localhost:8080/",
          "height": 851
        },
        "id": "Tz_8ec511PVc",
        "outputId": "6bde37ba-a343-44c1-c285-4db4602fe0ba"
      },
      "outputs": [
        {
          "name": "stderr",
          "output_type": "stream",
          "text": [
            "[nltk_data] Downloading package punkt to\n",
            "[nltk_data]     /Users/lingsiewwin/nltk_data...\n",
            "[nltk_data]   Package punkt is already up-to-date!\n",
            "[nltk_data] Downloading package stopwords to\n",
            "[nltk_data]     /Users/lingsiewwin/nltk_data...\n",
            "[nltk_data]   Package stopwords is already up-to-date!\n"
          ]
        },
        {
          "name": "stdout",
          "output_type": "stream",
          "text": [
            "['this', 'programme', 'is', 'designed', 'to', 'provide', 'students', 'with', 'knowledge', 'and', 'applied', 'skills', 'in', 'data', 'science', ',', 'big', 'data', 'analytics', 'and', 'business', 'intelligence', '.', 'it', 'aims', 'to', 'develop', 'analytical', 'and', 'investigative', 'knowledge', 'and', 'skills', 'using', 'data', 'science', 'tools', 'and', 'techniques', ',', 'and', 'to', 'enhance', 'data', 'science', 'knowledge', 'and', 'critical', 'interpretation', 'skills', '.', 'students', 'will', 'understand', 'the', 'impact', 'of', 'data', 'science', 'upon', 'modern', 'processes', 'and', 'businesses', ',', 'be', 'able', 'to', 'identify', ',', 'and', 'implement', 'specific', 'tools', ',', 'practices', ',', 'features', 'and', 'techniques', 'to', 'enhance', 'the', 'analysis', 'of', 'data', '.']\n",
            "\n",
            "Total number of words in this text corpus is  87\n",
            "There are 52 words in this text after removing stop words\n",
            "\n",
            "['programme', 'designed', 'provide', 'students', 'knowledge', 'applied', 'skills', 'data', 'science', 'big', 'data', 'analytics', 'business', 'intelligence', 'aims', 'develop', 'analytical', 'investigative', 'knowledge', 'skills', 'using', 'data', 'science', 'tools', 'techniques', 'enhance', 'data', 'science', 'knowledge', 'critical', 'interpretation', 'skills', 'students', 'understand', 'impact', 'data', 'science', 'upon', 'modern', 'processes', 'businesses', 'able', 'identify', 'implement', 'specific', 'tools', 'practices', 'features', 'techniques', 'enhance', 'analysis', 'data']\n",
            "\n",
            " ['a', 'about', 'above', 'after', 'again', 'against', 'ain', 'all', 'am', 'an', 'and', 'any', 'are', 'aren', \"aren't\", 'as', 'at', 'be', 'because', 'been', 'before', 'being', 'below', 'between', 'both', 'but', 'by', 'can', 'couldn', \"couldn't\", 'd', 'did', 'didn', \"didn't\", 'do', 'does', 'doesn', \"doesn't\", 'doing', 'don', \"don't\", 'down', 'during', 'each', 'few', 'for', 'from', 'further', 'had', 'hadn', \"hadn't\", 'has', 'hasn', \"hasn't\", 'have', 'haven', \"haven't\", 'having', 'he', \"he'd\", \"he'll\", 'her', 'here', 'hers', 'herself', \"he's\", 'him', 'himself', 'his', 'how', 'i', \"i'd\", 'if', \"i'll\", \"i'm\", 'in', 'into', 'is', 'isn', \"isn't\", 'it', \"it'd\", \"it'll\", \"it's\", 'its', 'itself', \"i've\", 'just', 'll', 'm', 'ma', 'me', 'mightn', \"mightn't\", 'more', 'most', 'mustn', \"mustn't\", 'my', 'myself', 'needn', \"needn't\", 'no', 'nor', 'not', 'now', 'o', 'of', 'off', 'on', 'once', 'only', 'or', 'other', 'our', 'ours', 'ourselves', 'out', 'over', 'own', 're', 's', 'same', 'shan', \"shan't\", 'she', \"she'd\", \"she'll\", \"she's\", 'should', 'shouldn', \"shouldn't\", \"should've\", 'so', 'some', 'such', 't', 'than', 'that', \"that'll\", 'the', 'their', 'theirs', 'them', 'themselves', 'then', 'there', 'these', 'they', \"they'd\", \"they'll\", \"they're\", \"they've\", 'this', 'those', 'through', 'to', 'too', 'under', 'until', 'up', 've', 'very', 'was', 'wasn', \"wasn't\", 'we', \"we'd\", \"we'll\", \"we're\", 'were', 'weren', \"weren't\", \"we've\", 'what', 'when', 'where', 'which', 'while', 'who', 'whom', 'why', 'will', 'with', 'won', \"won't\", 'wouldn', \"wouldn't\", 'y', 'you', \"you'd\", \"you'll\", 'your', \"you're\", 'yours', 'yourself', 'yourselves', \"you've\", '!', '\"', '#', '$', '%', '&', \"'\", '(', ')', '*', '+', ',', '-', '.', '/', ':', ';', '<', '=', '>', '?', '@', '[', '\\\\', ']', '^', '_', '`', '{', '|', '}', '~']\n",
            "3\n",
            "\n",
            " [('data', 6), ('science', 4), ('knowledge', 3), ('skills', 3), ('students', 2), ('tools', 2), ('techniques', 2), ('enhance', 2), ('programme', 1), ('designed', 1)]\n"
          ]
        },
        {
          "data": {
            "image/png": "[encoded data removed]",
            "text/plain": [
              "<Figure size 1500x800 with 1 Axes>"
            ]
          },
          "metadata": {},
          "output_type": "display_data"
        }
      ],
      "source": [
        "import nltk, string\n",
        "nltk.download('punkt')\n",
        "nltk.download('stopwords')\n",
        "import wordcloud\n",
        "'''conda install -c conda-forge wordcloud\n",
        "pip install wordcloud'''\n",
        "\n",
        "import matplotlib.pyplot as plt\n",
        "\n",
        "text = \"This programme is designed to provide students with knowledge and applied skills in data science, big data analytics and business intelligence. It aims to develop analytical and investigative knowledge and skills using data science tools and techniques, and to enhance data science knowledge and critical interpretation skills. Students will understand the impact of data science upon modern processes and businesses, be able to identify, and implement specific tools, practices, features and techniques to enhance the analysis of data.\"\n",
        "text_lower = text.lower()\n",
        "wordtokens = nltk.tokenize.word_tokenize(text_lower)\n",
        "print(wordtokens)\n",
        "\n",
        "print(\"\\nTotal number of words in this text corpus is \",len(wordtokens))\n",
        "\n",
        "stopTokens = nltk.corpus.stopwords.words(\"english\") + list(string.punctuation)\n",
        "filteredTokens = []\n",
        "\n",
        "for w in wordtokens:\n",
        "    if w not in stopTokens :\n",
        "        filteredTokens.append(w)\n",
        "\n",
        "print(\"There are\", len(filteredTokens), \"words in this text after removing stop words\\n\")\n",
        "print(filteredTokens)\n",
        "\n",
        "print(\"\\n\", stopTokens)\n",
        "\n",
        "# word count / bag of words\n",
        "print(wordtokens.count(\"skills\"))\n",
        "\n",
        "fdist1 = nltk.FreqDist(filteredTokens)\n",
        "print(\"\\n\",fdist1.most_common(10))\n",
        "\n",
        "# Display the generated word cloud ~~~~~~~~~~~~~~~~~~~~~~~~~~~~~~~~~~~~~\n",
        "word_cloud = wordcloud.WordCloud(background_color='white').generate(text) #untokenized text\n",
        "plt.figure(figsize = (15, 8), facecolor = None)\n",
        "plt.imshow(word_cloud)\n",
        "plt.axis(\"off\")\n",
        "plt.tight_layout(pad = 0)\n",
        "plt.show()\n"
      ]
    }
  ],
  "metadata": {
    "colab": {
      "provenance": []
    },
    "kernelspec": {
      "display_name": "Python 3",
      "language": "python",
      "name": "python3"
    },
    "language_info": {
      "codemirror_mode": {
        "name": "ipython",
        "version": 3
      },
      "file_extension": ".py",
      "mimetype": "text/x-python",
      "name": "python",
      "nbconvert_exporter": "python",
      "pygments_lexer": "ipython3",
      "version": "3.9.20"
    }
  },
  "nbformat": 4,
  "nbformat_minor": 0
}
